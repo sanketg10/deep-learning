{
 "cells": [
  {
   "cell_type": "markdown",
   "metadata": {},
   "source": [
    "# Convolutional Autoencoder\n",
    "\n",
    "Sticking with the MNIST dataset, let's improve our autoencoder's performance using convolutional layers. Again, loading modules and the data."
   ]
  },
  {
   "cell_type": "code",
   "execution_count": 1,
   "metadata": {
    "collapsed": true
   },
   "outputs": [],
   "source": [
    "%matplotlib inline\n",
    "\n",
    "import numpy as np\n",
    "import tensorflow as tf\n",
    "import matplotlib.pyplot as plt"
   ]
  },
  {
   "cell_type": "code",
   "execution_count": 2,
   "metadata": {},
   "outputs": [
    {
     "name": "stdout",
     "output_type": "stream",
     "text": [
      "Extracting MNIST_data/train-images-idx3-ubyte.gz\n",
      "Extracting MNIST_data/train-labels-idx1-ubyte.gz\n",
      "Extracting MNIST_data/t10k-images-idx3-ubyte.gz\n",
      "Extracting MNIST_data/t10k-labels-idx1-ubyte.gz\n"
     ]
    }
   ],
   "source": [
    "from tensorflow.examples.tutorials.mnist import input_data\n",
    "mnist = input_data.read_data_sets('MNIST_data', validation_size=0)"
   ]
  },
  {
   "cell_type": "code",
   "execution_count": 3,
   "metadata": {},
   "outputs": [
    {
     "data": {
      "text/plain": [
       "<matplotlib.image.AxesImage at 0x120035dd8>"
      ]
     },
     "execution_count": 3,
     "metadata": {},
     "output_type": "execute_result"
    },
    {
     "data": {
      "image/png": "[encoded data removed]",
      "text/plain": [
       "<matplotlib.figure.Figure at 0x115285c50>"
      ]
     },
     "metadata": {},
     "output_type": "display_data"
    }
   ],
   "source": [
    "img = mnist.train.images[2]\n",
    "plt.imshow(img.reshape((28, 28)), cmap='Greys_r')"
   ]
  },
  {
   "cell_type": "markdown",
   "metadata": {},
   "source": [
    "## Network Architecture\n",
    "\n",
    "The encoder part of the network will be a typical convolutional pyramid. Each convolutional layer will be followed by a max-pooling layer to reduce the dimensions of the layers. The decoder though might be something new to you. The decoder needs to convert from a narrow representation to a wide reconstructed image. For example, the representation could be a 4x4x8 max-pool layer. This is the output of the encoder, but also the input to the decoder. We want to get a 28x28x1 image out from the decoder so we need to work our way back up from the narrow decoder input layer. A schematic of the network is shown below.\n",
    "\n",
    "<img src='assets/convolutional_autoencoder.png' width=500px>\n",
    "\n",
    "Here our final encoder layer has size 4x4x8 = 128. The original images have size 28x28 = 784, so the encoded vector is roughly 16% the size of the original image. These are just suggested sizes for each of the layers. Feel free to change the depths and sizes, but remember our goal here is to find a small representation of the input data.\n",
    "\n",
    "### What's going on with the decoder\n",
    "\n",
    "Okay, so the decoder has these \"Upsample\" layers that you might not have seen before. First off, I'll discuss a bit what these layers *aren't*. Usually, you'll see **transposed convolution** layers used to increase the width and height of the layers. They work almost exactly the same as convolutional layers, but in reverse. A stride in the input layer results in a larger stride in the transposed convolution layer. For example, if you have a 3x3 kernel, a 3x3 patch in the input layer will be reduced to one unit in a convolutional layer. Comparatively, one unit in the input layer will be expanded to a 3x3 path in a transposed convolution layer. The TensorFlow API provides us with an easy way to create the layers, [`tf.nn.conv2d_transpose`](https://www.tensorflow.org/api_docs/python/tf/nn/conv2d_transpose). \n",
    "\n",
    "However, transposed convolution layers can lead to artifacts in the final images, such as checkerboard patterns. This is due to overlap in the kernels which can be avoided by setting the stride and kernel size equal. In [this Distill article](http://distill.pub/2016/deconv-checkerboard/) from Augustus Odena, *et al*, the authors show that these checkerboard artifacts can be avoided by resizing the layers using nearest neighbor or bilinear interpolation (upsampling) followed by a convolutional layer. In TensorFlow, this is easily done with [`tf.image.resize_images`](https://www.tensorflow.org/versions/r1.1/api_docs/python/tf/image/resize_images), followed by a convolution. Be sure to read the Distill article to get a better understanding of deconvolutional layers and why we're using upsampling.\n",
    "\n",
    "> **Exercise:** Build the network shown above. Remember that a convolutional layer with strides of 1 and 'same' padding won't reduce the height and width. That is, if the input is 28x28 and the convolution layer has stride = 1 and 'same' padding, the convolutional layer will also be 28x28. The max-pool layers are used the reduce the width and height. A stride of 2 will reduce the size by a factor of 2. Odena *et al* claim that nearest neighbor interpolation works best for the upsampling, so make sure to include that as a parameter in `tf.image.resize_images` or use [`tf.image.resize_nearest_neighbor`]( `https://www.tensorflow.org/api_docs/python/tf/image/resize_nearest_neighbor). For convolutional layers, use [`tf.layers.conv2d`](https://www.tensorflow.org/api_docs/python/tf/layers/conv2d). For example, you would write `conv1 = tf.layers.conv2d(inputs, 32, (5,5), padding='same', activation=tf.nn.relu)` for a layer with a depth of 32, a 5x5 kernel, stride of (1,1), padding is 'same', and a ReLU activation. Similarly, for the max-pool layers, use [`tf.layers.max_pooling2d`](https://www.tensorflow.org/api_docs/python/tf/layers/max_pooling2d)."
   ]
  },
  {
   "cell_type": "code",
   "execution_count": 4,
   "metadata": {
    "collapsed": true
   },
   "outputs": [],
   "source": [
    "inputs_ = tf.placeholder(tf.float32, (None, 28, 28, 1), name='inputs')\n",
    "targets_ = tf.placeholder(tf.float32, (None, 28, 28, 1), name='targets')\n",
    "\n",
    "### Encoder\n",
    "conv1 = tf.layers.conv2d(inputs_, 16, (3,3), padding='same', activation=tf.nn.relu)\n",
    "# Now 28x28x16\n",
    "maxpool1 = tf.layers.max_pooling2d(conv1, (2,2), (2,2), padding='same')\n",
    "# Now 14x14x16\n",
    "conv2 = tf.layers.conv2d(maxpool1, 8, (3,3), padding='same', activation=tf.nn.relu)\n",
    "# Now 14x14x8\n",
    "maxpool2 = tf.layers.max_pooling2d(conv2, (2,2), (2,2), padding='same')\n",
    "# Now 7x7x8\n",
    "conv3 = tf.layers.conv2d(maxpool2, 8, (3,3), padding='same', activation=tf.nn.relu)\n",
    "# Now 7x7x8\n",
    "encoded = tf.layers.max_pooling2d(conv3, (2,2), (2,2), padding='same')\n",
    "# Now 4x4x8\n",
    "\n",
    "### Decoder\n",
    "upsample1 = tf.image.resize_nearest_neighbor(encoded, (7,7))\n",
    "# Now 7x7x8\n",
    "conv4 = tf.layers.conv2d(upsample1, 8, (3,3), padding='same', activation=tf.nn.relu)\n",
    "# Now 7x7x8\n",
    "upsample2 = tf.image.resize_nearest_neighbor(conv4, (14,14))\n",
    "# Now 14x14x8\n",
    "conv5 = tf.layers.conv2d(upsample2, 8, (3,3), padding='same', activation=tf.nn.relu)\n",
    "# Now 14x14x8\n",
    "upsample3 = tf.image.resize_nearest_neighbor(conv5, (28,28))\n",
    "# Now 28x28x8\n",
    "conv6 = tf.layers.conv2d(upsample3, 16, (3,3), padding='same', activation=tf.nn.relu)\n",
    "# Now 28x28x16\n",
    "\n",
    "logits = tf.layers.conv2d(conv6, 1, (3,3), padding='same', activation=None)\n",
    "#Now 28x28x1\n",
    "\n",
    "decoded = tf.nn.sigmoid(logits, name='decoded')\n",
    "\n",
    "loss = tf.nn.sigmoid_cross_entropy_with_logits(labels=targets_, logits=logits)\n",
    "cost = tf.reduce_mean(loss)\n",
    "opt = tf.train.AdamOptimizer(0.001).minimize(cost)"
   ]
  },
  {
   "cell_type": "markdown",
   "metadata": {},
   "source": [
    "## Training\n",
    "\n",
    "As before, here wi'll train the network. Instead of flattening the images though, we can pass them in as 28x28x1 arrays."
   ]
  },
  {
   "cell_type": "code",
   "execution_count": 6,
   "metadata": {
    "collapsed": true
   },
   "outputs": [],
   "source": [
    "sess = tf.Session()"
   ]
  },
  {
   "cell_type": "code",
   "execution_count": 7,
   "metadata": {
    "scrolled": true
   },
   "outputs": [
    {
     "name": "stdout",
     "output_type": "stream",
     "text": [
      "Epoch: 1/1... Training loss: 0.6928\n",
      "Epoch: 1/1... Training loss: 0.6904\n",
      "Epoch: 1/1... Training loss: 0.6882\n",
      "Epoch: 1/1... Training loss: 0.6855\n",
      "Epoch: 1/1... Training loss: 0.6820\n",
      "Epoch: 1/1... Training loss: 0.6781\n",
      "Epoch: 1/1... Training loss: 0.6737\n",
      "Epoch: 1/1... Training loss: 0.6678\n",
      "Epoch: 1/1... Training loss: 0.6595\n",
      "Epoch: 1/1... Training loss: 0.6511\n",
      "Epoch: 1/1... Training loss: 0.6411\n",
      "Epoch: 1/1... Training loss: 0.6301\n",
      "Epoch: 1/1... Training loss: 0.6194\n",
      "Epoch: 1/1... Training loss: 0.6014\n",
      "Epoch: 1/1... Training loss: 0.5887\n",
      "Epoch: 1/1... Training loss: 0.5697\n",
      "Epoch: 1/1... Training loss: 0.5519\n",
      "Epoch: 1/1... Training loss: 0.5418\n",
      "Epoch: 1/1... Training loss: 0.5345\n",
      "Epoch: 1/1... Training loss: 0.5279\n",
      "Epoch: 1/1... Training loss: 0.5188\n",
      "Epoch: 1/1... Training loss: 0.5222\n",
      "Epoch: 1/1... Training loss: 0.5193\n",
      "Epoch: 1/1... Training loss: 0.5131\n",
      "Epoch: 1/1... Training loss: 0.4972\n",
      "Epoch: 1/1... Training loss: 0.4846\n",
      "Epoch: 1/1... Training loss: 0.4719\n",
      "Epoch: 1/1... Training loss: 0.4638\n",
      "Epoch: 1/1... Training loss: 0.4571\n",
      "Epoch: 1/1... Training loss: 0.4516\n",
      "Epoch: 1/1... Training loss: 0.4379\n",
      "Epoch: 1/1... Training loss: 0.4336\n",
      "Epoch: 1/1... Training loss: 0.4269\n",
      "Epoch: 1/1... Training loss: 0.4233\n",
      "Epoch: 1/1... Training loss: 0.4084\n",
      "Epoch: 1/1... Training loss: 0.4051\n",
      "Epoch: 1/1... Training loss: 0.3949\n",
      "Epoch: 1/1... Training loss: 0.3842\n",
      "Epoch: 1/1... Training loss: 0.3678\n",
      "Epoch: 1/1... Training loss: 0.3623\n",
      "Epoch: 1/1... Training loss: 0.3531\n",
      "Epoch: 1/1... Training loss: 0.3350\n",
      "Epoch: 1/1... Training loss: 0.3347\n",
      "Epoch: 1/1... Training loss: 0.3238\n",
      "Epoch: 1/1... Training loss: 0.3218\n",
      "Epoch: 1/1... Training loss: 0.3118\n",
      "Epoch: 1/1... Training loss: 0.3039\n",
      "Epoch: 1/1... Training loss: 0.2953\n",
      "Epoch: 1/1... Training loss: 0.2906\n",
      "Epoch: 1/1... Training loss: 0.2925\n",
      "Epoch: 1/1... Training loss: 0.2761\n",
      "Epoch: 1/1... Training loss: 0.2733\n",
      "Epoch: 1/1... Training loss: 0.2694\n",
      "Epoch: 1/1... Training loss: 0.2667\n",
      "Epoch: 1/1... Training loss: 0.2571\n",
      "Epoch: 1/1... Training loss: 0.2525\n",
      "Epoch: 1/1... Training loss: 0.2478\n",
      "Epoch: 1/1... Training loss: 0.2507\n",
      "Epoch: 1/1... Training loss: 0.2313\n",
      "Epoch: 1/1... Training loss: 0.2328\n",
      "Epoch: 1/1... Training loss: 0.2367\n",
      "Epoch: 1/1... Training loss: 0.2315\n",
      "Epoch: 1/1... Training loss: 0.2283\n",
      "Epoch: 1/1... Training loss: 0.2218\n",
      "Epoch: 1/1... Training loss: 0.2229\n",
      "Epoch: 1/1... Training loss: 0.2180\n",
      "Epoch: 1/1... Training loss: 0.2174\n",
      "Epoch: 1/1... Training loss: 0.2179\n",
      "Epoch: 1/1... Training loss: 0.2124\n",
      "Epoch: 1/1... Training loss: 0.2118\n",
      "Epoch: 1/1... Training loss: 0.2176\n",
      "Epoch: 1/1... Training loss: 0.2255\n",
      "Epoch: 1/1... Training loss: 0.2171\n",
      "Epoch: 1/1... Training loss: 0.2096\n",
      "Epoch: 1/1... Training loss: 0.2090\n",
      "Epoch: 1/1... Training loss: 0.2093\n",
      "Epoch: 1/1... Training loss: 0.2001\n",
      "Epoch: 1/1... Training loss: 0.2020\n",
      "Epoch: 1/1... Training loss: 0.2018\n",
      "Epoch: 1/1... Training loss: 0.2014\n",
      "Epoch: 1/1... Training loss: 0.2029\n",
      "Epoch: 1/1... Training loss: 0.2051\n",
      "Epoch: 1/1... Training loss: 0.2041\n",
      "Epoch: 1/1... Training loss: 0.2014\n",
      "Epoch: 1/1... Training loss: 0.2027\n",
      "Epoch: 1/1... Training loss: 0.1952\n",
      "Epoch: 1/1... Training loss: 0.2021\n",
      "Epoch: 1/1... Training loss: 0.1974\n",
      "Epoch: 1/1... Training loss: 0.1986\n",
      "Epoch: 1/1... Training loss: 0.1966\n",
      "Epoch: 1/1... Training loss: 0.1989\n",
      "Epoch: 1/1... Training loss: 0.1925\n",
      "Epoch: 1/1... Training loss: 0.1927\n",
      "Epoch: 1/1... Training loss: 0.1929\n",
      "Epoch: 1/1... Training loss: 0.1983\n",
      "Epoch: 1/1... Training loss: 0.1964\n",
      "Epoch: 1/1... Training loss: 0.1968\n",
      "Epoch: 1/1... Training loss: 0.1883\n",
      "Epoch: 1/1... Training loss: 0.1912\n",
      "Epoch: 1/1... Training loss: 0.1927\n",
      "Epoch: 1/1... Training loss: 0.1858\n",
      "Epoch: 1/1... Training loss: 0.1927\n",
      "Epoch: 1/1... Training loss: 0.1879\n",
      "Epoch: 1/1... Training loss: 0.1849\n",
      "Epoch: 1/1... Training loss: 0.1868\n",
      "Epoch: 1/1... Training loss: 0.1919\n",
      "Epoch: 1/1... Training loss: 0.1855\n",
      "Epoch: 1/1... Training loss: 0.1920\n",
      "Epoch: 1/1... Training loss: 0.1841\n",
      "Epoch: 1/1... Training loss: 0.1948\n",
      "Epoch: 1/1... Training loss: 0.1864\n",
      "Epoch: 1/1... Training loss: 0.1823\n",
      "Epoch: 1/1... Training loss: 0.1907\n",
      "Epoch: 1/1... Training loss: 0.1804\n",
      "Epoch: 1/1... Training loss: 0.1835\n",
      "Epoch: 1/1... Training loss: 0.1883\n",
      "Epoch: 1/1... Training loss: 0.1908\n",
      "Epoch: 1/1... Training loss: 0.1845\n",
      "Epoch: 1/1... Training loss: 0.1823\n",
      "Epoch: 1/1... Training loss: 0.1810\n",
      "Epoch: 1/1... Training loss: 0.1742\n",
      "Epoch: 1/1... Training loss: 0.1863\n",
      "Epoch: 1/1... Training loss: 0.1846\n",
      "Epoch: 1/1... Training loss: 0.1814\n",
      "Epoch: 1/1... Training loss: 0.1779\n",
      "Epoch: 1/1... Training loss: 0.1745\n",
      "Epoch: 1/1... Training loss: 0.1820\n",
      "Epoch: 1/1... Training loss: 0.1773\n",
      "Epoch: 1/1... Training loss: 0.1747\n",
      "Epoch: 1/1... Training loss: 0.1831\n",
      "Epoch: 1/1... Training loss: 0.1806\n",
      "Epoch: 1/1... Training loss: 0.1752\n",
      "Epoch: 1/1... Training loss: 0.1780\n",
      "Epoch: 1/1... Training loss: 0.1746\n",
      "Epoch: 1/1... Training loss: 0.1796\n",
      "Epoch: 1/1... Training loss: 0.1796\n",
      "Epoch: 1/1... Training loss: 0.1789\n",
      "Epoch: 1/1... Training loss: 0.1795\n",
      "Epoch: 1/1... Training loss: 0.1839\n",
      "Epoch: 1/1... Training loss: 0.1829\n",
      "Epoch: 1/1... Training loss: 0.1836\n",
      "Epoch: 1/1... Training loss: 0.1761\n",
      "Epoch: 1/1... Training loss: 0.1781\n",
      "Epoch: 1/1... Training loss: 0.1799\n",
      "Epoch: 1/1... Training loss: 0.1823\n",
      "Epoch: 1/1... Training loss: 0.1694\n",
      "Epoch: 1/1... Training loss: 0.1761\n",
      "Epoch: 1/1... Training loss: 0.1769\n",
      "Epoch: 1/1... Training loss: 0.1761\n",
      "Epoch: 1/1... Training loss: 0.1726\n",
      "Epoch: 1/1... Training loss: 0.1762\n",
      "Epoch: 1/1... Training loss: 0.1758\n",
      "Epoch: 1/1... Training loss: 0.1752\n",
      "Epoch: 1/1... Training loss: 0.1764\n",
      "Epoch: 1/1... Training loss: 0.1787\n",
      "Epoch: 1/1... Training loss: 0.1755\n",
      "Epoch: 1/1... Training loss: 0.1769\n",
      "Epoch: 1/1... Training loss: 0.1748\n",
      "Epoch: 1/1... Training loss: 0.1758\n",
      "Epoch: 1/1... Training loss: 0.1709\n",
      "Epoch: 1/1... Training loss: 0.1685\n",
      "Epoch: 1/1... Training loss: 0.1653\n",
      "Epoch: 1/1... Training loss: 0.1713\n",
      "Epoch: 1/1... Training loss: 0.1697\n",
      "Epoch: 1/1... Training loss: 0.1742\n",
      "Epoch: 1/1... Training loss: 0.1747\n",
      "Epoch: 1/1... Training loss: 0.1692\n",
      "Epoch: 1/1... Training loss: 0.1755\n",
      "Epoch: 1/1... Training loss: 0.1721\n",
      "Epoch: 1/1... Training loss: 0.1757\n",
      "Epoch: 1/1... Training loss: 0.1682\n",
      "Epoch: 1/1... Training loss: 0.1666\n",
      "Epoch: 1/1... Training loss: 0.1705\n",
      "Epoch: 1/1... Training loss: 0.1687\n",
      "Epoch: 1/1... Training loss: 0.1729\n",
      "Epoch: 1/1... Training loss: 0.1671\n",
      "Epoch: 1/1... Training loss: 0.1702\n",
      "Epoch: 1/1... Training loss: 0.1686\n",
      "Epoch: 1/1... Training loss: 0.1639\n",
      "Epoch: 1/1... Training loss: 0.1642\n",
      "Epoch: 1/1... Training loss: 0.1701\n",
      "Epoch: 1/1... Training loss: 0.1653\n",
      "Epoch: 1/1... Training loss: 0.1717\n",
      "Epoch: 1/1... Training loss: 0.1670\n",
      "Epoch: 1/1... Training loss: 0.1693\n",
      "Epoch: 1/1... Training loss: 0.1684\n",
      "Epoch: 1/1... Training loss: 0.1633\n",
      "Epoch: 1/1... Training loss: 0.1683\n",
      "Epoch: 1/1... Training loss: 0.1631\n",
      "Epoch: 1/1... Training loss: 0.1649\n",
      "Epoch: 1/1... Training loss: 0.1647\n",
      "Epoch: 1/1... Training loss: 0.1619\n",
      "Epoch: 1/1... Training loss: 0.1692\n",
      "Epoch: 1/1... Training loss: 0.1682\n",
      "Epoch: 1/1... Training loss: 0.1650\n",
      "Epoch: 1/1... Training loss: 0.1637\n",
      "Epoch: 1/1... Training loss: 0.1603\n",
      "Epoch: 1/1... Training loss: 0.1661\n",
      "Epoch: 1/1... Training loss: 0.1598\n",
      "Epoch: 1/1... Training loss: 0.1623\n",
      "Epoch: 1/1... Training loss: 0.1640\n",
      "Epoch: 1/1... Training loss: 0.1716\n",
      "Epoch: 1/1... Training loss: 0.1661\n",
      "Epoch: 1/1... Training loss: 0.1607\n",
      "Epoch: 1/1... Training loss: 0.1660\n",
      "Epoch: 1/1... Training loss: 0.1619\n",
      "Epoch: 1/1... Training loss: 0.1584\n",
      "Epoch: 1/1... Training loss: 0.1719\n",
      "Epoch: 1/1... Training loss: 0.1593\n",
      "Epoch: 1/1... Training loss: 0.1601\n",
      "Epoch: 1/1... Training loss: 0.1651\n",
      "Epoch: 1/1... Training loss: 0.1625\n",
      "Epoch: 1/1... Training loss: 0.1679\n",
      "Epoch: 1/1... Training loss: 0.1633\n",
      "Epoch: 1/1... Training loss: 0.1610\n",
      "Epoch: 1/1... Training loss: 0.1583\n",
      "Epoch: 1/1... Training loss: 0.1611\n",
      "Epoch: 1/1... Training loss: 0.1611\n",
      "Epoch: 1/1... Training loss: 0.1621\n",
      "Epoch: 1/1... Training loss: 0.1597\n",
      "Epoch: 1/1... Training loss: 0.1638\n",
      "Epoch: 1/1... Training loss: 0.1663\n",
      "Epoch: 1/1... Training loss: 0.1640\n",
      "Epoch: 1/1... Training loss: 0.1550\n",
      "Epoch: 1/1... Training loss: 0.1608\n",
      "Epoch: 1/1... Training loss: 0.1604\n",
      "Epoch: 1/1... Training loss: 0.1610\n",
      "Epoch: 1/1... Training loss: 0.1547\n"
     ]
    },
    {
     "name": "stdout",
     "output_type": "stream",
     "text": [
      "Epoch: 1/1... Training loss: 0.1582\n",
      "Epoch: 1/1... Training loss: 0.1567\n",
      "Epoch: 1/1... Training loss: 0.1578\n",
      "Epoch: 1/1... Training loss: 0.1636\n",
      "Epoch: 1/1... Training loss: 0.1638\n",
      "Epoch: 1/1... Training loss: 0.1638\n",
      "Epoch: 1/1... Training loss: 0.1587\n",
      "Epoch: 1/1... Training loss: 0.1616\n",
      "Epoch: 1/1... Training loss: 0.1577\n",
      "Epoch: 1/1... Training loss: 0.1618\n",
      "Epoch: 1/1... Training loss: 0.1617\n",
      "Epoch: 1/1... Training loss: 0.1527\n",
      "Epoch: 1/1... Training loss: 0.1548\n",
      "Epoch: 1/1... Training loss: 0.1550\n",
      "Epoch: 1/1... Training loss: 0.1551\n",
      "Epoch: 1/1... Training loss: 0.1633\n",
      "Epoch: 1/1... Training loss: 0.1588\n",
      "Epoch: 1/1... Training loss: 0.1630\n",
      "Epoch: 1/1... Training loss: 0.1538\n",
      "Epoch: 1/1... Training loss: 0.1577\n",
      "Epoch: 1/1... Training loss: 0.1593\n",
      "Epoch: 1/1... Training loss: 0.1564\n",
      "Epoch: 1/1... Training loss: 0.1562\n",
      "Epoch: 1/1... Training loss: 0.1560\n",
      "Epoch: 1/1... Training loss: 0.1554\n",
      "Epoch: 1/1... Training loss: 0.1592\n",
      "Epoch: 1/1... Training loss: 0.1543\n",
      "Epoch: 1/1... Training loss: 0.1580\n",
      "Epoch: 1/1... Training loss: 0.1549\n",
      "Epoch: 1/1... Training loss: 0.1554\n",
      "Epoch: 1/1... Training loss: 0.1582\n",
      "Epoch: 1/1... Training loss: 0.1574\n",
      "Epoch: 1/1... Training loss: 0.1535\n",
      "Epoch: 1/1... Training loss: 0.1595\n",
      "Epoch: 1/1... Training loss: 0.1545\n",
      "Epoch: 1/1... Training loss: 0.1548\n",
      "Epoch: 1/1... Training loss: 0.1571\n",
      "Epoch: 1/1... Training loss: 0.1585\n",
      "Epoch: 1/1... Training loss: 0.1577\n",
      "Epoch: 1/1... Training loss: 0.1534\n",
      "Epoch: 1/1... Training loss: 0.1576\n",
      "Epoch: 1/1... Training loss: 0.1589\n",
      "Epoch: 1/1... Training loss: 0.1552\n",
      "Epoch: 1/1... Training loss: 0.1542\n",
      "Epoch: 1/1... Training loss: 0.1543\n",
      "Epoch: 1/1... Training loss: 0.1566\n",
      "Epoch: 1/1... Training loss: 0.1546\n",
      "Epoch: 1/1... Training loss: 0.1540\n",
      "Epoch: 1/1... Training loss: 0.1553\n",
      "Epoch: 1/1... Training loss: 0.1544\n",
      "Epoch: 1/1... Training loss: 0.1596\n",
      "Epoch: 1/1... Training loss: 0.1495\n",
      "Epoch: 1/1... Training loss: 0.1537\n",
      "Epoch: 1/1... Training loss: 0.1537\n",
      "Epoch: 1/1... Training loss: 0.1530\n",
      "Epoch: 1/1... Training loss: 0.1513\n",
      "Epoch: 1/1... Training loss: 0.1506\n",
      "Epoch: 1/1... Training loss: 0.1523\n",
      "Epoch: 1/1... Training loss: 0.1498\n",
      "Epoch: 1/1... Training loss: 0.1577\n",
      "Epoch: 1/1... Training loss: 0.1529\n",
      "Epoch: 1/1... Training loss: 0.1520\n",
      "Epoch: 1/1... Training loss: 0.1501\n",
      "Epoch: 1/1... Training loss: 0.1469\n",
      "Epoch: 1/1... Training loss: 0.1546\n",
      "Epoch: 1/1... Training loss: 0.1552\n",
      "Epoch: 1/1... Training loss: 0.1551\n",
      "Epoch: 1/1... Training loss: 0.1544\n",
      "Epoch: 1/1... Training loss: 0.1509\n",
      "Epoch: 1/1... Training loss: 0.1493\n",
      "Epoch: 1/1... Training loss: 0.1519\n",
      "Epoch: 1/1... Training loss: 0.1513\n"
     ]
    }
   ],
   "source": [
    "epochs = 1\n",
    "batch_size = 200\n",
    "sess.run(tf.global_variables_initializer())\n",
    "for e in range(epochs):\n",
    "    for ii in range(mnist.train.num_examples//batch_size):\n",
    "        batch = mnist.train.next_batch(batch_size)\n",
    "        imgs = batch[0].reshape((-1, 28, 28, 1))\n",
    "        batch_cost, _ = sess.run([cost, opt], feed_dict={inputs_: imgs,\n",
    "                                                         targets_: imgs})\n",
    "\n",
    "        print(\"Epoch: {}/{}...\".format(e+1, epochs),\n",
    "              \"Training loss: {:.4f}\".format(batch_cost))"
   ]
  },
  {
   "cell_type": "code",
   "execution_count": 8,
   "metadata": {},
   "outputs": [
    {
     "data": {
      "image/png": "[encoded data removed]",
      "text/plain": [
       "<matplotlib.figure.Figure at 0x1201c09e8>"
      ]
     },
     "metadata": {},
     "output_type": "display_data"
    }
   ],
   "source": [
    "fig, axes = plt.subplots(nrows=2, ncols=10, sharex=True, sharey=True, figsize=(20,4))\n",
    "in_imgs = mnist.test.images[:10]\n",
    "reconstructed = sess.run(decoded, feed_dict={inputs_: in_imgs.reshape((10, 28, 28, 1))})\n",
    "\n",
    "for images, row in zip([in_imgs, reconstructed], axes):\n",
    "    for img, ax in zip(images, row):\n",
    "        ax.imshow(img.reshape((28, 28)), cmap='Greys_r')\n",
    "        ax.get_xaxis().set_visible(False)\n",
    "        ax.get_yaxis().set_visible(False)\n",
    "\n",
    "\n",
    "fig.tight_layout(pad=0.1)"
   ]
  },
  {
   "cell_type": "code",
   "execution_count": 9,
   "metadata": {
    "collapsed": true
   },
   "outputs": [],
   "source": [
    "sess.close()"
   ]
  },
  {
   "cell_type": "markdown",
   "metadata": {},
   "source": [
    "## Denoising\n",
    "\n",
    "As I've mentioned before, autoencoders like the ones you've built so far aren't too useful in practive. However, they can be used to denoise images quite successfully just by training the network on noisy images. We can create the noisy images ourselves by adding Gaussian noise to the training images, then clipping the values to be between 0 and 1. We'll use noisy images as input and the original, clean images as targets. Here's an example of the noisy images I generated and the denoised images.\n",
    "\n",
    "![Denoising autoencoder](assets/denoising.png)\n",
    "\n",
    "\n",
    "Since this is a harder problem for the network, we'll want to use deeper convolutional layers here, more feature maps. I suggest something like 32-32-16 for the depths of the convolutional layers in the encoder, and the same depths going backward through the decoder. Otherwise the architecture is the same as before.\n",
    "\n",
    "> **Exercise:** Build the network for the denoising autoencoder. It's the same as before, but with deeper layers. I suggest 32-32-16 for the depths, but you can play with these numbers, or add more layers."
   ]
  },
  {
   "cell_type": "code",
   "execution_count": 21,
   "metadata": {
    "collapsed": true
   },
   "outputs": [],
   "source": [
    "inputs_ = tf.placeholder(tf.float32, (None, 28, 28, 1), name='inputs')\n",
    "targets_ = tf.placeholder(tf.float32, (None, 28, 28, 1), name='targets')\n",
    "\n",
    "### Encoder\n",
    "conv1 = tf.layers.conv2d(inputs_, 32, (3,3), padding='same', activation=tf.nn.relu)\n",
    "# Now 28x28x32\n",
    "maxpool1 = tf.layers.max_pooling2d(conv1, (2,2), (2,2), padding='same')\n",
    "# Now 14x14x32\n",
    "conv2 = tf.layers.conv2d(maxpool1, 32, (3,3), padding='same', activation=tf.nn.relu)\n",
    "# Now 14x14x32\n",
    "maxpool2 = tf.layers.max_pooling2d(conv2, (2,2), (2,2), padding='same')\n",
    "# Now 7x7x32\n",
    "conv3 = tf.layers.conv2d(maxpool2, 16, (3,3), padding='same', activation=tf.nn.relu)\n",
    "# Now 7x7x16\n",
    "encoded = tf.layers.max_pooling2d(conv3, (2,2), (2,2), padding='same')\n",
    "# Now 4x4x16\n",
    "\n",
    "### Decoder\n",
    "upsample1 = tf.image.resize_nearest_neighbor(encoded, (7,7))\n",
    "# Now 7x7x16\n",
    "conv4 = tf.layers.conv2d(upsample1, 16, (3,3), padding='same', activation=tf.nn.relu)\n",
    "# Now 7x7x16\n",
    "upsample2 = tf.image.resize_nearest_neighbor(conv4, (14,14))\n",
    "# Now 14x14x16\n",
    "conv5 = tf.layers.conv2d(upsample2, 32, (3,3), padding='same', activation=tf.nn.relu)\n",
    "# Now 14x14x32\n",
    "upsample3 = tf.image.resize_nearest_neighbor(conv5, (28,28))\n",
    "# Now 28x28x32\n",
    "conv6 = tf.layers.conv2d(upsample3, 32, (3,3), padding='same', activation=tf.nn.relu)\n",
    "# Now 28x28x32\n",
    "\n",
    "logits = tf.layers.conv2d(conv6, 1, (3,3), padding='same', activation=None)\n",
    "#Now 28x28x1\n",
    "\n",
    "decoded = tf.nn.sigmoid(logits, name='decoded')\n",
    "\n",
    "loss = tf.nn.sigmoid_cross_entropy_with_logits(labels=targets_, logits=logits)\n",
    "cost = tf.reduce_mean(loss)\n",
    "opt = tf.train.AdamOptimizer(0.001).minimize(cost)"
   ]
  },
  {
   "cell_type": "code",
   "execution_count": 22,
   "metadata": {
    "collapsed": true
   },
   "outputs": [],
   "source": [
    "sess = tf.Session()"
   ]
  },
  {
   "cell_type": "code",
   "execution_count": null,
   "metadata": {
    "collapsed": true
   },
   "outputs": [],
   "source": [
    "epochs = 100\n",
    "batch_size = 200\n",
    "# Set's how much noise we're adding to the MNIST images\n",
    "noise_factor = 0.5\n",
    "sess.run(tf.global_variables_initializer())\n",
    "for e in range(epochs):\n",
    "    for ii in range(mnist.train.num_examples//batch_size):\n",
    "        batch = mnist.train.next_batch(batch_size)\n",
    "        # Get images from the batch\n",
    "        imgs = batch[0].reshape((-1, 28, 28, 1))\n",
    "        \n",
    "        # Add random noise to the input images\n",
    "        noisy_imgs = imgs + noise_factor * np.random.randn(*imgs.shape)\n",
    "        # Clip the images to be between 0 and 1\n",
    "        noisy_imgs = np.clip(noisy_imgs, 0., 1.)\n",
    "        \n",
    "        # Noisy images as inputs, original images as targets\n",
    "        batch_cost, _ = sess.run([cost, opt], feed_dict={inputs_: noisy_imgs,\n",
    "                                                         targets_: imgs})\n",
    "\n",
    "        print(\"Epoch: {}/{}...\".format(e+1, epochs),\n",
    "              \"Training loss: {:.4f}\".format(batch_cost))"
   ]
  },
  {
   "cell_type": "markdown",
   "metadata": {},
   "source": [
    "## Checking out the performance\n",
    "\n",
    "Here I'm adding noise to the test images and passing them through the autoencoder. It does a suprising great job of removing the noise, even though it's sometimes difficult to tell what the original number is."
   ]
  },
  {
   "cell_type": "code",
   "execution_count": 29,
   "metadata": {},
   "outputs": [
    {
     "data": {
      "image/png": "[encoded data removed]",
      "text/plain": [
       "<matplotlib.figure.Figure at 0x7f4624778320>"
      ]
     },
     "metadata": {},
     "output_type": "display_data"
    }
   ],
   "source": [
    "fig, axes = plt.subplots(nrows=2, ncols=10, sharex=True, sharey=True, figsize=(20,4))\n",
    "in_imgs = mnist.test.images[:10]\n",
    "noisy_imgs = in_imgs + noise_factor * np.random.randn(*in_imgs.shape)\n",
    "noisy_imgs = np.clip(noisy_imgs, 0., 1.)\n",
    "\n",
    "reconstructed = sess.run(decoded, feed_dict={inputs_: noisy_imgs.reshape((10, 28, 28, 1))})\n",
    "\n",
    "for images, row in zip([noisy_imgs, reconstructed], axes):\n",
    "    for img, ax in zip(images, row):\n",
    "        ax.imshow(img.reshape((28, 28)), cmap='Greys_r')\n",
    "        ax.get_xaxis().set_visible(False)\n",
    "        ax.get_yaxis().set_visible(False)\n",
    "\n",
    "fig.tight_layout(pad=0.1)"
   ]
  }
 ],
 "metadata": {
  "kernelspec": {
   "display_name": "Python 3",
   "language": "python",
   "name": "python3"
  },
  "language_info": {
   "codemirror_mode": {
    "name": "ipython",
    "version": 3
   },
   "file_extension": ".py",
   "mimetype": "text/x-python",
   "name": "python",
   "nbconvert_exporter": "python",
   "pygments_lexer": "ipython3",
   "version": "3.6.2"
  }
 },
 "nbformat": 4,
 "nbformat_minor": 2
}
